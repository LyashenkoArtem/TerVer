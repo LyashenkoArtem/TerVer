{
 "cells": [
  {
   "cell_type": "code",
   "execution_count": 1,
   "id": "36fe8602",
   "metadata": {},
   "outputs": [],
   "source": [
    "import numpy as np\n",
    "import pandas as pd\n",
    "import matplotlib.pyplot as plt"
   ]
  },
  {
   "cell_type": "markdown",
   "id": "ed6dc96b",
   "metadata": {},
   "source": [
    "Задача 1\n",
    "Даны значения зарплат из выборки выпускников:\n",
    "100, 80, 75, 77, 89, 33, 45, 25, 65, 17, 30, 230, 24, 57, 55, 70, 75, 65, 84, 90, 150\n",
    "Используя только встроенные питоновские функции и структуры данных (т.е. без библиотек numpy, pandas и др.) посчитать среднее арифметическое, смещённую и несмещённую оценки дисперсии, среднее квадратичное отклонение для данной выборки.\n",
    "Можно затем посчитать те же значения с использованием библиотек, чтобы проверить себя."
   ]
  },
  {
   "cell_type": "code",
   "execution_count": 2,
   "id": "4cfba6bb",
   "metadata": {},
   "outputs": [],
   "source": [
    "salary = [100, 80, 75, 77, 89, 33, 45, 25, 65, 17, 30, 230, 24, 57, 55, 70, 75, 65, 84, 90, 150]"
   ]
  },
  {
   "cell_type": "code",
   "execution_count": 3,
   "id": "29b82fd7",
   "metadata": {},
   "outputs": [
    {
     "name": "stdout",
     "output_type": "stream",
     "text": [
      "Математическое ожидание: 73.14285714285714\n"
     ]
    }
   ],
   "source": [
    "AA=0\n",
    "for item in salary:\n",
    "    AA = AA + item\n",
    "MO = AA/len(salary)\n",
    "print(\"Математическое ожидание:\", MO)"
   ]
  },
  {
   "cell_type": "code",
   "execution_count": 4,
   "id": "62f829dc",
   "metadata": {},
   "outputs": [
    {
     "name": "stdout",
     "output_type": "stream",
     "text": [
      "Квадратичное отклонение: 46.20686994302874\n"
     ]
    }
   ],
   "source": [
    "AA = 0\n",
    "for item in salary:\n",
    "    AA = AA + ((item - MO)**2)\n",
    "QO = (AA/len(salary))**0.5\n",
    "print(\"Квадратичное отклонение:\", QO)"
   ]
  },
  {
   "cell_type": "code",
   "execution_count": 5,
   "id": "941c619f",
   "metadata": {},
   "outputs": [
    {
     "name": "stdout",
     "output_type": "stream",
     "text": [
      "Смещенная дисперсия: 2135.074829931973\n",
      "Несмещенная дисперсия: 2241.8285714285716\n"
     ]
    }
   ],
   "source": [
    "AA = 0\n",
    "for item in salary:\n",
    "    AA = AA + ((item - MO)**2)\n",
    "D_biased = AA/len(salary)\n",
    "D_unbiased = AA/(len(salary)-1)\n",
    "print(\"Смещенная дисперсия:\", D_biased)\n",
    "print(\"Несмещенная дисперсия:\", D_unbiased)"
   ]
  },
  {
   "cell_type": "markdown",
   "id": "35193efd",
   "metadata": {},
   "source": [
    "Задача 2\n",
    "\n",
    "В первом ящике находится 8 мячей, из которых 5 - белые. Во втором ящике - 12 мячей, из которых 5 белых. Из первого ящика вытаскивают случайным образом два мяча, из второго - 4. Какова вероятность того, что 3 мяча белые?"
   ]
  },
  {
   "cell_type": "code",
   "execution_count": 8,
   "id": "e277e0ff",
   "metadata": {},
   "outputs": [],
   "source": [
    "from math import factorial\n",
    "\n",
    "def combinatorics(n,k):\n",
    "    return int(factorial(n) / (factorial(k)*factorial(n-k)))"
   ]
  },
  {
   "cell_type": "code",
   "execution_count": 13,
   "id": "739a36a8",
   "metadata": {},
   "outputs": [
    {
     "data": {
      "text/plain": [
       "0.01515151515151515"
      ]
     },
     "execution_count": 13,
     "metadata": {},
     "output_type": "execute_result"
    }
   ],
   "source": [
    "P1 = (combinatorics(5, 0)* combinatorics(3,2))/combinatorics(8,2)*((combinatorics(5,3)*combinatorics(7,1))/combinatorics(12,4))\n",
    "P1"
   ]
  },
  {
   "cell_type": "code",
   "execution_count": 14,
   "id": "6352caef",
   "metadata": {},
   "outputs": [
    {
     "data": {
      "text/plain": [
       "0.22727272727272727"
      ]
     },
     "execution_count": 14,
     "metadata": {},
     "output_type": "execute_result"
    }
   ],
   "source": [
    "P2 = (combinatorics(5, 1)* combinatorics(3,1))/combinatorics(8,2)*((combinatorics(5,2)*combinatorics(7,2))/combinatorics(12,4))\n",
    "P2"
   ]
  },
  {
   "cell_type": "code",
   "execution_count": 16,
   "id": "6751b161",
   "metadata": {},
   "outputs": [
    {
     "data": {
      "text/plain": [
       "0.12626262626262627"
      ]
     },
     "execution_count": 16,
     "metadata": {},
     "output_type": "execute_result"
    }
   ],
   "source": [
    "P3 = (combinatorics(5, 2)* combinatorics(3,0))/combinatorics(8,2)*((combinatorics(5,1)*combinatorics(7,3))/combinatorics(12,4))\n",
    "P3"
   ]
  },
  {
   "cell_type": "code",
   "execution_count": 17,
   "id": "eba0ab10",
   "metadata": {},
   "outputs": [
    {
     "data": {
      "text/plain": [
       "0.3686868686868687"
      ]
     },
     "execution_count": 17,
     "metadata": {},
     "output_type": "execute_result"
    }
   ],
   "source": [
    "P = P1 + P2 + P3\n",
    "P"
   ]
  },
  {
   "cell_type": "markdown",
   "id": "1af39736",
   "metadata": {},
   "source": [
    "Задача 3\n",
    "\n",
    "На соревновании по биатлону один из трех спортсменов стреляет и попадает в мишень. Вероятность попадания для первого спортсмена равна 0.9, для второго — 0.8, для третьего — 0.6. Найти вероятность того, что выстрел произведен: a). первым спортсменом б). вторым спортсменом в). третьим спортсменом."
   ]
  },
  {
   "cell_type": "code",
   "execution_count": 18,
   "id": "f51bbe23",
   "metadata": {},
   "outputs": [
    {
     "data": {
      "text/plain": [
       "0.7666666666666666"
      ]
     },
     "execution_count": 18,
     "metadata": {},
     "output_type": "execute_result"
    }
   ],
   "source": [
    "A = 1/3 * 0.9 + 1/3 * 0.8 + 1/3 * 0.6\n",
    "A"
   ]
  },
  {
   "cell_type": "markdown",
   "id": "f9d65965",
   "metadata": {},
   "source": [
    "Вероятность того, что выстрел произведен первым спортсменом"
   ]
  },
  {
   "cell_type": "code",
   "execution_count": 20,
   "id": "e9d51c98",
   "metadata": {},
   "outputs": [
    {
     "data": {
      "text/plain": [
       "0.391304347826087"
      ]
     },
     "execution_count": 20,
     "metadata": {},
     "output_type": "execute_result"
    }
   ],
   "source": [
    "S1 = (1/3 * 0.9) / A\n",
    "S1"
   ]
  },
  {
   "cell_type": "markdown",
   "id": "a8f96c69",
   "metadata": {},
   "source": [
    "Вероятность того, что выстрел произведен вторым спортсменом"
   ]
  },
  {
   "cell_type": "code",
   "execution_count": 21,
   "id": "c53e0f19",
   "metadata": {},
   "outputs": [
    {
     "data": {
      "text/plain": [
       "0.3478260869565218"
      ]
     },
     "execution_count": 21,
     "metadata": {},
     "output_type": "execute_result"
    }
   ],
   "source": [
    "S2 = (1/3 * 0.8) / A\n",
    "S2"
   ]
  },
  {
   "cell_type": "markdown",
   "id": "09bf4f27",
   "metadata": {},
   "source": [
    "Вероятность того, что выстрел произведен третьим спортсменом"
   ]
  },
  {
   "cell_type": "code",
   "execution_count": 22,
   "id": "7bcf3b5f",
   "metadata": {},
   "outputs": [
    {
     "data": {
      "text/plain": [
       "0.2608695652173913"
      ]
     },
     "execution_count": 22,
     "metadata": {},
     "output_type": "execute_result"
    }
   ],
   "source": [
    "S3 = (1/3 * 0.6) / A\n",
    "S3"
   ]
  },
  {
   "cell_type": "code",
   "execution_count": 23,
   "id": "d68f077e",
   "metadata": {},
   "outputs": [
    {
     "data": {
      "text/plain": [
       "1.0"
      ]
     },
     "execution_count": 23,
     "metadata": {},
     "output_type": "execute_result"
    }
   ],
   "source": [
    "S = S1 + S2 + S3\n",
    "S"
   ]
  },
  {
   "cell_type": "markdown",
   "id": "13ebfad4",
   "metadata": {},
   "source": [
    "Задача 4\n",
    "\n",
    "В университет на факультеты A и B поступило равное количество студентов, а на факультет C студентов поступило столько же, сколько на A и B вместе. Вероятность того, что студент факультета A сдаст первую сессию, равна 0.8. Для студента факультета B эта вероятность равна 0.7, а для студента факультета C - 0.9. Студент сдал первую сессию. Какова вероятность, что он учится: a). на факультете A б). на факультете B в). на факультете C?\n",
    "\n",
    "Если на А+B = C и A+B+C = 1 => На А и В учится по 1\\4 всех студентов, а на С 1/2"
   ]
  },
  {
   "cell_type": "code",
   "execution_count": 24,
   "id": "82d75626",
   "metadata": {},
   "outputs": [
    {
     "data": {
      "text/plain": [
       "0.825"
      ]
     },
     "execution_count": 24,
     "metadata": {},
     "output_type": "execute_result"
    }
   ],
   "source": [
    "P = 0.25*0.8 + 0.25*0.7 + 0.5*0.9\n",
    "P"
   ]
  },
  {
   "cell_type": "code",
   "execution_count": 25,
   "id": "c254edfa",
   "metadata": {},
   "outputs": [
    {
     "data": {
      "text/plain": [
       "0.24242424242424246"
      ]
     },
     "execution_count": 25,
     "metadata": {},
     "output_type": "execute_result"
    }
   ],
   "source": [
    "# вероятность, что студент учится на факультете A:\n",
    "P_A = 0.25*0.8/0.825\n",
    "P_A"
   ]
  },
  {
   "cell_type": "code",
   "execution_count": 26,
   "id": "d41d2ebd",
   "metadata": {},
   "outputs": [
    {
     "data": {
      "text/plain": [
       "0.21212121212121213"
      ]
     },
     "execution_count": 26,
     "metadata": {},
     "output_type": "execute_result"
    }
   ],
   "source": [
    "# вероятность, что студент учится на факультете В:\n",
    "P_B = 0.25*0.7/0.825\n",
    "P_B"
   ]
  },
  {
   "cell_type": "code",
   "execution_count": 27,
   "id": "a49fbcac",
   "metadata": {},
   "outputs": [
    {
     "data": {
      "text/plain": [
       "0.5454545454545455"
      ]
     },
     "execution_count": 27,
     "metadata": {},
     "output_type": "execute_result"
    }
   ],
   "source": [
    "# вероятность, что студент учится на факультете С:\n",
    "P_C = 0.5*0.9/0.825\n",
    "P_C"
   ]
  },
  {
   "cell_type": "code",
   "execution_count": 28,
   "id": "a5fb3552",
   "metadata": {},
   "outputs": [
    {
     "name": "stdout",
     "output_type": "stream",
     "text": [
      "1.0\n"
     ]
    }
   ],
   "source": [
    "print(P_A+P_B+P_C)"
   ]
  },
  {
   "cell_type": "markdown",
   "id": "8f21f709",
   "metadata": {},
   "source": [
    "Задача 5\n",
    "\n",
    "Устройство состоит из трех деталей. Для первой детали вероятность выйти из строя в первый месяц равна 0.1, для второй - 0.2, для третьей - 0.25. Какова вероятность того, что в первый месяц выйдут из строя: а). все детали б). только две детали в). хотя бы одна деталь г). от одной до двух деталей?"
   ]
  },
  {
   "cell_type": "code",
   "execution_count": 29,
   "id": "d154feeb",
   "metadata": {},
   "outputs": [
    {
     "name": "stdout",
     "output_type": "stream",
     "text": [
      "Все детали: 0.005000000000000001\n",
      "Две детали: 0.08\n",
      "Хотя бы одна деталь: 0.45999999999999996\n",
      "Одна - две: 0.45499999999999996\n"
     ]
    }
   ],
   "source": [
    "print(f'Все детали: {0.1*0.2*0.25}')\n",
    "print(f'Две детали: {0.9*0.2*0.25+0.8*0.1*0.25+0.75*0.1*0.2}')\n",
    "print(f'Хотя бы одна деталь: {1 - 0.9*0.8*0.75}')\n",
    "print(f'Одна - две: {1 - 0.9*0.8*0.75 - 0.1*0.2*0.25}')"
   ]
  },
  {
   "cell_type": "code",
   "execution_count": null,
   "id": "c8a45815",
   "metadata": {},
   "outputs": [],
   "source": []
  }
 ],
 "metadata": {
  "kernelspec": {
   "display_name": "Python 3",
   "language": "python",
   "name": "python3"
  },
  "language_info": {
   "codemirror_mode": {
    "name": "ipython",
    "version": 3
   },
   "file_extension": ".py",
   "mimetype": "text/x-python",
   "name": "python",
   "nbconvert_exporter": "python",
   "pygments_lexer": "ipython3",
   "version": "3.8.8"
  }
 },
 "nbformat": 4,
 "nbformat_minor": 5
}
