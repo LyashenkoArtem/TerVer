{
 "cells": [
  {
   "cell_type": "code",
   "execution_count": null,
   "id": "6456a956",
   "metadata": {},
   "outputs": [],
   "source": [
    "Утверждается, что шарики для подшипников, \n",
    "изготовленные автоматическим станком, \n",
    "имеют средний диаметр 17 мм. \n",
    "Используя односторонний критерий с α=0,05, \n",
    "проверить эту гипотезу, если в выборке из n=100 шариков \n",
    "средний диаметр оказался равным 17.5 мм, а дисперсия известна и равна 4 кв.мм."
   ]
  },
  {
   "cell_type": "code",
   "execution_count": null,
   "id": "3ddea498",
   "metadata": {},
   "outputs": [],
   "source": [
    "Нулевая гипотеза: H0 : μ = 10 . \n",
    "Альтернативная гипотеза H1 : μ > 10 \n",
    "Вычисляем наблюдаемое значение критерия"
   ]
  },
  {
   "cell_type": "code",
   "execution_count": null,
   "id": "1dd9a17a",
   "metadata": {},
   "outputs": [],
   "source": [
    "U = (x-μ)/σ * sqrt(n)\n",
    "U = (17,5-17)/4 * sqrt(100) = 0,125*10 = 1,25\n",
    "F(u) = (1 - 2α)/2 = 0,45\n",
    "u ≈ 1,645\n",
    "\n",
    "ТАк как U < u => то нулевую гипотезу можно принять, можно считать что средний диаметр действительно 17mm"
   ]
  }
 ],
 "metadata": {
  "kernelspec": {
   "display_name": "Python 3",
   "language": "python",
   "name": "python3"
  },
  "language_info": {
   "codemirror_mode": {
    "name": "ipython",
    "version": 3
   },
   "file_extension": ".py",
   "mimetype": "text/x-python",
   "name": "python",
   "nbconvert_exporter": "python",
   "pygments_lexer": "ipython3",
   "version": "3.8.8"
  }
 },
 "nbformat": 4,
 "nbformat_minor": 5
}
