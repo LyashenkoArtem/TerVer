{
 "cells": [
  {
   "cell_type": "code",
   "execution_count": null,
   "id": "c2b59791-70db-4dfb-9609-55ef4bbd5fc4",
   "metadata": {},
   "outputs": [],
   "source": [
    "1. Из колоды в 52 карты извлекаются случайным образом 4 карты. \n",
    "a) Найти вероятность того, что все карты – крести.\n",
    "б) Найти вероятность, что среди 4-х карт окажется хотя бы один туз."
   ]
  },
  {
   "cell_type": "code",
   "execution_count": null,
   "id": "6c0675c7-df96-4206-becc-353da1baac75",
   "metadata": {},
   "outputs": [],
   "source": [
    "а) Всего 4 масти, по 13 карт. Значит вероятность вытянуть крести 13\\52 или 1\\4. \n",
    "Второй карты 12\\51, третьей 11\\50, четвертой 10\\49. \n",
    "Все карты крести = 1\\4 * 12\\511 * 11\\50 * 10\\49 = 1320\\499800 = 0,00264"
   ]
  },
  {
   "cell_type": "code",
   "execution_count": null,
   "id": "2e75fd0b-688c-4767-b599-701729322aab",
   "metadata": {},
   "outputs": [],
   "source": [
    "б) Для начала необходимо подсчитать вероятность появления одного туза. В клолде их 4, соответственно\n",
    "вероятность не вытащить ни одного туза = С4\\48 \\ С4\\52 \n",
    "А вероятность вытащить хоть одного это 1 - эта вероятность"
   ]
  },
  {
   "cell_type": "code",
   "execution_count": 5,
   "id": "5357a56f-94c2-4e6f-974a-ac2aa33c6c23",
   "metadata": {},
   "outputs": [
    {
     "data": {
      "text/plain": [
       "0.2812632745405854"
      ]
     },
     "execution_count": 5,
     "metadata": {},
     "output_type": "execute_result"
    }
   ],
   "source": [
    "from math import factorial\n",
    "\n",
    "def combinations(n, k):\n",
    "    return int(factorial(n) / (factorial(k) * factorial(n - k)))\n",
    "\n",
    "a = combinations(48, 4)\n",
    "b = combinations(52, 4)\n",
    "\n",
    "c = 1 - a/b\n",
    "c"
   ]
  },
  {
   "cell_type": "code",
   "execution_count": null,
   "id": "fdd973ac-750e-466c-944a-1c0044418606",
   "metadata": {},
   "outputs": [],
   "source": []
  }
 ],
 "metadata": {
  "kernelspec": {
   "display_name": "Python 3",
   "language": "python",
   "name": "python3"
  },
  "language_info": {
   "codemirror_mode": {
    "name": "ipython",
    "version": 3
   },
   "file_extension": ".py",
   "mimetype": "text/x-python",
   "name": "python",
   "nbconvert_exporter": "python",
   "pygments_lexer": "ipython3",
   "version": "3.8.8"
  }
 },
 "nbformat": 4,
 "nbformat_minor": 5
}
