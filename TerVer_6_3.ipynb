{
 "cells": [
  {
   "cell_type": "markdown",
   "id": "2ef2336b",
   "metadata": {},
   "source": [
    "Известно, что рост футболистов в сборной распределен нормально\n",
    "с дисперсией генеральной совокупности, равной 25 кв.см. Объем выборки равен 27,\n",
    "среднее выборочное составляет 174.2. Найдите доверительный интервал для математического\n",
    "ожидания с надежностью 0.95."
   ]
  },
  {
   "cell_type": "code",
   "execution_count": 1,
   "id": "85c23fa2",
   "metadata": {},
   "outputs": [],
   "source": [
    "import numpy as np\n",
    "import pandas as pd\n",
    "from scipy import stats\n",
    "from matplotlib import pyplot as plt"
   ]
  },
  {
   "cell_type": "markdown",
   "id": "a4130a2d",
   "metadata": {},
   "source": [
    "Cлучайная величина имеет нормальное распределение, соответственно доверительный интервал для математического ожидания можно построить с помощью квантилей стандартного распределения. "
   ]
  },
  {
   "cell_type": "code",
   "execution_count": 2,
   "id": "770100bd",
   "metadata": {},
   "outputs": [
    {
     "data": {
      "text/plain": [
       "1.959963984540054"
      ]
     },
     "execution_count": 2,
     "metadata": {},
     "output_type": "execute_result"
    }
   ],
   "source": [
    "n=27\n",
    "D = 25\n",
    "scale = 5\n",
    "mean = 174.2\n",
    "p=0.95\n",
    "\n",
    "alpha = 1 - p\n",
    "\n",
    "t = stats.norm.ppf(1 - alpha/2)\n",
    "t"
   ]
  },
  {
   "cell_type": "markdown",
   "id": "c90cb5b7",
   "metadata": {},
   "source": [
    "Тогда доверительный интервал будет равен:"
   ]
  },
  {
   "cell_type": "code",
   "execution_count": 3,
   "id": "faea3f81",
   "metadata": {},
   "outputs": [
    {
     "data": {
      "text/plain": [
       "(172.3140237765397, 176.08597622346028)"
      ]
     },
     "execution_count": 3,
     "metadata": {},
     "output_type": "execute_result"
    }
   ],
   "source": [
    "(mean - t * scale / np.sqrt(n), mean + t * scale / np.sqrt(n))"
   ]
  }
 ],
 "metadata": {
  "kernelspec": {
   "display_name": "Python 3",
   "language": "python",
   "name": "python3"
  },
  "language_info": {
   "codemirror_mode": {
    "name": "ipython",
    "version": 3
   },
   "file_extension": ".py",
   "mimetype": "text/x-python",
   "name": "python",
   "nbconvert_exporter": "python",
   "pygments_lexer": "ipython3",
   "version": "3.8.8"
  }
 },
 "nbformat": 4,
 "nbformat_minor": 5
}
