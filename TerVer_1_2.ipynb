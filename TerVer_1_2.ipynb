{
 "cells": [
  {
   "cell_type": "code",
   "execution_count": null,
   "id": "637f5476-c93f-44ff-82e9-0ad9b4cc0d05",
   "metadata": {},
   "outputs": [],
   "source": [
    "На входной двери подъезда установлен кодовый замок, \n",
    "содержащий десять кнопок с цифрами от 0 до 9. \n",
    "Код содержит три цифры, которые нужно нажать одновременно. \n",
    "Какова вероятность того, что человек, не знающий код, откроет дверь с первой попытки?"
   ]
  },
  {
   "cell_type": "code",
   "execution_count": null,
   "id": "c9df0781-e84e-4d75-a439-6b527111f02d",
   "metadata": {},
   "outputs": [],
   "source": [
    "РАсчитаем количество сочетаний и вероятность угадать"
   ]
  },
  {
   "cell_type": "code",
   "execution_count": 5,
   "id": "9837a3e5-d954-46d5-8301-394651f1a911",
   "metadata": {},
   "outputs": [
    {
     "data": {
      "text/plain": [
       "0.008333333333333333"
      ]
     },
     "execution_count": 5,
     "metadata": {},
     "output_type": "execute_result"
    }
   ],
   "source": [
    "from math import factorial\n",
    "\n",
    "def combinations(n, k):\n",
    "    return int(factorial(n) / (factorial(k) * factorial(n - k)))\n",
    "\n",
    "a = combinations(10, 3)\n",
    "\n",
    "b = 1/a\n",
    "b"
   ]
  },
  {
   "cell_type": "code",
   "execution_count": null,
   "id": "5934a79c-0726-45a5-b68b-da267ae9939f",
   "metadata": {},
   "outputs": [],
   "source": []
  }
 ],
 "metadata": {
  "kernelspec": {
   "display_name": "Python 3",
   "language": "python",
   "name": "python3"
  },
  "language_info": {
   "codemirror_mode": {
    "name": "ipython",
    "version": 3
   },
   "file_extension": ".py",
   "mimetype": "text/x-python",
   "name": "python",
   "nbconvert_exporter": "python",
   "pygments_lexer": "ipython3",
   "version": "3.8.8"
  }
 },
 "nbformat": 4,
 "nbformat_minor": 5
}
