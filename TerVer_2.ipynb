{
 "cells": [
  {
   "cell_type": "code",
   "execution_count": null,
   "id": "52830a46",
   "metadata": {},
   "outputs": [],
   "source": [
    "1.  Вероятность того, что стрелок попадет в мишень, выстрелив один раз, равна 0.8. \n",
    "    Стрелок выстрелил 100 раз. \n",
    "    Найдите вероятность того, что стрелок попадет в цель ровно 85 раз."
   ]
  },
  {
   "cell_type": "code",
   "execution_count": null,
   "id": "b123f724",
   "metadata": {},
   "outputs": [],
   "source": [
    "Pm = (λ**m / m!) * e**(-λ)\n",
    "\n",
    "λ = p * n = 0.8 * 100 = 80\n",
    "\n",
    "P(85) = (80**85 / 85!) * e**(-85) = 0.0002 = 0.02%"
   ]
  },
  {
   "cell_type": "code",
   "execution_count": null,
   "id": "449a9171",
   "metadata": {},
   "outputs": [],
   "source": [
    "2.  Вероятность того, что лампочка перегорит в течение первого дня эксплуатации, равна 0.0004. \n",
    "    В жилом комплексе после ремонта в один день включили 5000 новых лампочек. \n",
    "    Какова вероятность, что ни одна из них не перегорит в первый день? \n",
    "    Какова вероятность, что перегорят ровно две?"
   ]
  },
  {
   "cell_type": "code",
   "execution_count": null,
   "id": "14d965de",
   "metadata": {},
   "outputs": [],
   "source": [
    "λ = 0.0004 * 5000 = 2\n",
    "\n",
    "P(0) = 2**0 / 0! * e**(0) = 0.1353\n",
    "\n",
    "P(2) = 2**2 / 2! * e**(-2) = 0.2703"
   ]
  },
  {
   "cell_type": "code",
   "execution_count": null,
   "id": "cc6bfbe8",
   "metadata": {},
   "outputs": [],
   "source": [
    "3.  Монету подбросили 144 раза. \n",
    "    Какова вероятность, что орел выпадет ровно 70 раз?"
   ]
  },
  {
   "cell_type": "code",
   "execution_count": null,
   "id": "c07ff168",
   "metadata": {},
   "outputs": [],
   "source": [
    "P(n) = C(k\\n) * p**k * q**(n-k) = 0.0628\n",
    "\n",
    "λ = p * n = 0.5 * 144 = 72\n",
    "\n",
    "P(70) = 72**70 / 70! * e**(-70) = 0.3421\n",
    "\n",
    "Здесь не совсем понял, почему у меня такое большое различие в вероятностях по разным формулам вышло"
   ]
  },
  {
   "cell_type": "code",
   "execution_count": 3,
   "id": "10cae9a0",
   "metadata": {},
   "outputs": [
    {
     "data": {
      "text/plain": [
       "0.06281178035144776"
      ]
     },
     "execution_count": 3,
     "metadata": {},
     "output_type": "execute_result"
    }
   ],
   "source": [
    "from math import factorial\n",
    "\n",
    "def combinations(n, k):\n",
    "    return int(factorial(n) / (factorial(k) * factorial(n - k)))\n",
    "\n",
    "p = 0.5\n",
    "q = 0.5\n",
    "\n",
    "a = combinations(144, 70)\n",
    "k = 70\n",
    "n = 144\n",
    "\n",
    "b = a * p**k * q**(n-k)\n",
    "\n",
    "b"
   ]
  },
  {
   "cell_type": "code",
   "execution_count": null,
   "id": "ecd947b7",
   "metadata": {},
   "outputs": [],
   "source": [
    "4.  В первом ящике находится 10 мячей, из которых 7 - белые. \n",
    "    Во втором ящике - 11 мячей, из которых 9 белых. \n",
    "    Из каждого ящика вытаскивают случайным образом по два мяча. \n",
    "    Какова вероятность того, что все мячи белые? \n",
    "    Какова вероятность того, что ровно два мяча белые? \n",
    "    Какова вероятность того, что хотя бы один мяч белый?"
   ]
  },
  {
   "cell_type": "code",
   "execution_count": 4,
   "id": "10edce56",
   "metadata": {},
   "outputs": [
    {
     "name": "stdout",
     "output_type": "stream",
     "text": [
      "Вероятность, что все мячи белые 0.3054545454545455\n",
      "2 белых + 0 белых 0.008484848484848484\n",
      "0 белых + 2 белых 0.014545454545454545\n",
      "1 белый + 1 белый 0.15272727272727274\n",
      "Вероятность того, что ровно два мяча белые 0.17575757575757578\n",
      "Вероятность, что хотя бы один мяч белый 0.9987878787878788\n"
     ]
    }
   ],
   "source": [
    "from math import factorial\n",
    "\n",
    "def combinations(n, k):\n",
    "    return int(factorial(n) / (factorial(k) * factorial(n - k)))\n",
    "\n",
    "t1 = combinations(10, 2)\n",
    "t2 = combinations(11, 2)\n",
    "\n",
    "#Все белые\n",
    "\n",
    "a1 = combinations(7, 2)\n",
    "a2 = combinations(9, 2)\n",
    "\n",
    "p1=a1/t1\n",
    "p2=a2/t2\n",
    "\n",
    "p=p1*p2\n",
    "print('Вероятность, что все мячи белые',p)\n",
    "\n",
    "#два мяча белые\n",
    "# 3 варианта: 2 белых + 0 белых, 1 белый + 1 белый, 0 белых + 2 белых\n",
    "a1 = combinations(7, 2)\n",
    "a2 = combinations(2, 2)\n",
    "p1=a1/t1\n",
    "p2=a2/t2\n",
    "pa=p1*p2\n",
    "print('2 белых + 0 белых',pa)\n",
    "\n",
    "\n",
    "a1 = combinations(2, 2)\n",
    "a2 = combinations(9, 2)\n",
    "p1=a1/t1\n",
    "p2=a2/t2\n",
    "pb=p1*p2\n",
    "print('0 белых + 2 белых',pb)\n",
    "\n",
    "a1 = combinations(7, 1)\n",
    "a2 = combinations(9, 1)\n",
    "b1 = combinations(3, 1)\n",
    "b2 = combinations(2, 1)\n",
    "p1=(a1*b1)/t1\n",
    "p2=(a2*b2)/t2\n",
    "pc=p1*p2\n",
    "print('1 белый + 1 белый',pc)\n",
    "\n",
    "p=pa+pb+pc\n",
    "print('Вероятность того, что ровно два мяча белые',p)\n",
    "\n",
    "#хотя бы один мяч белый\n",
    "#вероятность что ни один из мячей не белый\n",
    "a1 = combinations(3, 2)\n",
    "a2 = combinations(2, 2)\n",
    "p1=a1/t1\n",
    "p2=a2/t2\n",
    "p=1-p1*p2\n",
    "print('Вероятность, что хотя бы один мяч белый',p)"
   ]
  },
  {
   "cell_type": "code",
   "execution_count": null,
   "id": "478bbd30",
   "metadata": {},
   "outputs": [],
   "source": []
  }
 ],
 "metadata": {
  "kernelspec": {
   "display_name": "Python 3",
   "language": "python",
   "name": "python3"
  },
  "language_info": {
   "codemirror_mode": {
    "name": "ipython",
    "version": 3
   },
   "file_extension": ".py",
   "mimetype": "text/x-python",
   "name": "python",
   "nbconvert_exporter": "python",
   "pygments_lexer": "ipython3",
   "version": "3.8.8"
  }
 },
 "nbformat": 4,
 "nbformat_minor": 5
}
