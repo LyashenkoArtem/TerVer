{
 "cells": [
  {
   "cell_type": "code",
   "execution_count": null,
   "id": "94aea98f-55f1-42b6-bf47-274178250b5a",
   "metadata": {},
   "outputs": [],
   "source": [
    "В лотерее 100 билетов. Из них 2 выигрышных.\n",
    "Какова вероятность того, что 2 приобретенных билета окажутся выигрышными?"
   ]
  },
  {
   "cell_type": "code",
   "execution_count": 1,
   "id": "3ac65eeb-0dc0-4ce0-a682-ae741b1e0488",
   "metadata": {},
   "outputs": [
    {
     "data": {
      "text/plain": [
       "0.00020202020202020202"
      ]
     },
     "execution_count": 1,
     "metadata": {},
     "output_type": "execute_result"
    }
   ],
   "source": [
    "from math import factorial\n",
    "\n",
    "def combinations(n, k):\n",
    "    return int(factorial(n) / (factorial(k) * factorial(n - k)))\n",
    "\n",
    "a = combinations(100, 2)\n",
    "\n",
    "b = 1/a\n",
    "b"
   ]
  },
  {
   "cell_type": "code",
   "execution_count": null,
   "id": "c559e8db-2e18-48c9-a0d3-e04c611e236a",
   "metadata": {},
   "outputs": [],
   "source": [
    "1/100 * 1/99 = 1/9900 = 0.000101"
   ]
  },
  {
   "cell_type": "code",
   "execution_count": null,
   "id": "6f858258-bb92-4c1d-82df-cc7e8c70e946",
   "metadata": {},
   "outputs": [],
   "source": [
    "Не совсем понял, почему таким методом вероятность получается в 2 раза меньше"
   ]
  }
 ],
 "metadata": {
  "kernelspec": {
   "display_name": "Python 3",
   "language": "python",
   "name": "python3"
  },
  "language_info": {
   "codemirror_mode": {
    "name": "ipython",
    "version": 3
   },
   "file_extension": ".py",
   "mimetype": "text/x-python",
   "name": "python",
   "nbconvert_exporter": "python",
   "pygments_lexer": "ipython3",
   "version": "3.8.8"
  }
 },
 "nbformat": 4,
 "nbformat_minor": 5
}
