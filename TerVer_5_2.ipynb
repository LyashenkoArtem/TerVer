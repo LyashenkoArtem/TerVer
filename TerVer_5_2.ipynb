{
 "cells": [
  {
   "cell_type": "code",
   "execution_count": null,
   "id": "94aea98f-55f1-42b6-bf47-274178250b5a",
   "metadata": {},
   "outputs": [],
   "source": [
    "В результате 10 независимых измерений некоторой величины X, \n",
    "выполненных с одинаковой точностью, получены опытные данные: \n",
    "    6.9, 6.1, 6.2, 6.8, 7.5, 6.3, 6.4, 6.9, 6.7, 6.1 \n",
    "    Предполагая, что результаты измерений подчинены нормальному \n",
    "    закону распределения вероятностей, оценить истинное значение \n",
    "    величины X при помощи доверительного интервала, \n",
    "    покрывающего это значение с доверительной вероятностью 0,95."
   ]
  },
  {
   "cell_type": "code",
   "execution_count": null,
   "id": "6f858258-bb92-4c1d-82df-cc7e8c70e946",
   "metadata": {},
   "outputs": [],
   "source": [
    "M - Tγ*(σ/sqrt(n)) < a < M - Tγ*(σ/sqrt(n))"
   ]
  },
  {
   "cell_type": "code",
   "execution_count": 3,
   "id": "4970f6f7",
   "metadata": {},
   "outputs": [
    {
     "data": {
      "text/plain": [
       "6.589999999999999"
      ]
     },
     "execution_count": 3,
     "metadata": {},
     "output_type": "execute_result"
    }
   ],
   "source": [
    "M = (6.9 + 6.1 + 6.2 + 6.8 + 7.5 + 6.3 + 6.4 + 6.9 + 6.7 + 6.1) / 10 \n",
    "M"
   ]
  },
  {
   "cell_type": "code",
   "execution_count": null,
   "id": "9b2dca7d",
   "metadata": {},
   "outputs": [],
   "source": [
    "σ = sum(sqrt(xi-M)**2)\n",
    "σ = 1,829"
   ]
  },
  {
   "cell_type": "code",
   "execution_count": null,
   "id": "0cef23b5",
   "metadata": {},
   "outputs": [],
   "source": [
    "Φ(tγ )=γ / 2 = 0,95 / 2 = 0,475tγ ≈ 1,96"
   ]
  },
  {
   "cell_type": "code",
   "execution_count": 2,
   "id": "cb7d69c1",
   "metadata": {
    "scrolled": true
   },
   "outputs": [
    {
     "ename": "NameError",
     "evalue": "name 'a' is not defined",
     "output_type": "error",
     "traceback": [
      "\u001b[0;31m---------------------------------------------------------------------------\u001b[0m",
      "\u001b[0;31mNameError\u001b[0m                                 Traceback (most recent call last)",
      "\u001b[0;32m<ipython-input-2-c81c5f768c51>\u001b[0m in \u001b[0;36m<module>\u001b[0;34m\u001b[0m\n\u001b[0;32m----> 1\u001b[0;31m \u001b[0;36m80\u001b[0m \u001b[0;34m-\u001b[0m \u001b[0;36m1\u001b[0m\u001b[0;34m,\u001b[0m\u001b[0;36m96\u001b[0m\u001b[0;34m*\u001b[0m\u001b[0;34m(\u001b[0m\u001b[0;36m16\u001b[0m\u001b[0;34m/\u001b[0m\u001b[0;36m16\u001b[0m\u001b[0;34m)\u001b[0m \u001b[0;34m<\u001b[0m \u001b[0ma\u001b[0m \u001b[0;34m<\u001b[0m \u001b[0;36m80\u001b[0m \u001b[0;34m+\u001b[0m \u001b[0;36m1\u001b[0m\u001b[0;34m,\u001b[0m\u001b[0;36m96\u001b[0m\u001b[0;34m*\u001b[0m\u001b[0;34m(\u001b[0m\u001b[0;36m16\u001b[0m\u001b[0;34m/\u001b[0m\u001b[0;36m16\u001b[0m\u001b[0;34m)\u001b[0m\u001b[0;34m\u001b[0m\u001b[0;34m\u001b[0m\u001b[0m\n\u001b[0m\u001b[1;32m      2\u001b[0m \u001b[0ma\u001b[0m\u001b[0;34m\u001b[0m\u001b[0;34m\u001b[0m\u001b[0m\n",
      "\u001b[0;31mNameError\u001b[0m: name 'a' is not defined"
     ]
    }
   ],
   "source": [
    "6,589999999999999 - 1,96*(0,450801755/3,623) < a < 6,589999999999999 + 1,96*(0,450801755/3,623)\n",
    "6,59 - 0,24387 < a < 6,59 + 0,24387\n",
    "6,346 < a < 6,8338"
   ]
  },
  {
   "cell_type": "code",
   "execution_count": null,
   "id": "f64cfbaa",
   "metadata": {},
   "outputs": [],
   "source": []
  }
 ],
 "metadata": {
  "kernelspec": {
   "display_name": "Python 3",
   "language": "python",
   "name": "python3"
  },
  "language_info": {
   "codemirror_mode": {
    "name": "ipython",
    "version": 3
   },
   "file_extension": ".py",
   "mimetype": "text/x-python",
   "name": "python",
   "nbconvert_exporter": "python",
   "pygments_lexer": "ipython3",
   "version": "3.8.8"
  }
 },
 "nbformat": 4,
 "nbformat_minor": 5
}
