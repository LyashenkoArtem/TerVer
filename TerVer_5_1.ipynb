{
 "cells": [
  {
   "cell_type": "code",
   "execution_count": null,
   "id": "94aea98f-55f1-42b6-bf47-274178250b5a",
   "metadata": {},
   "outputs": [],
   "source": [
    "Известно, что генеральная совокупность распределена нормально со средним квадратическим отклонением, \n",
    "равным 16. Найти доверительный интервал для оценки математического ожидания с надежностью 0.95,\n",
    "если выборочная средняя M = 80, а объем выборки n = 256."
   ]
  },
  {
   "cell_type": "code",
   "execution_count": null,
   "id": "6f858258-bb92-4c1d-82df-cc7e8c70e946",
   "metadata": {},
   "outputs": [],
   "source": [
    "Найдем доверительный интервал для математического ожидания a с надежностью 0,95, используя формулу:\n",
    "M - Tγ*(σ/sqrt(n)) < a < M - Tγ*(σ/sqrt(n))"
   ]
  },
  {
   "cell_type": "code",
   "execution_count": null,
   "id": "53e62f2f",
   "metadata": {},
   "outputs": [],
   "source": [
    "M = 80, n = 256, σ = 16\n",
    "\n",
    "Φ(tγ )=γ / 2 = 0,95 / 2 = 0,475tγ ≈ 1,96"
   ]
  },
  {
   "cell_type": "code",
   "execution_count": 2,
   "id": "14b7d12b",
   "metadata": {
    "scrolled": true
   },
   "outputs": [
    {
     "ename": "NameError",
     "evalue": "name 'a' is not defined",
     "output_type": "error",
     "traceback": [
      "\u001b[0;31m---------------------------------------------------------------------------\u001b[0m",
      "\u001b[0;31mNameError\u001b[0m                                 Traceback (most recent call last)",
      "\u001b[0;32m<ipython-input-2-c81c5f768c51>\u001b[0m in \u001b[0;36m<module>\u001b[0;34m\u001b[0m\n\u001b[0;32m----> 1\u001b[0;31m \u001b[0;36m80\u001b[0m \u001b[0;34m-\u001b[0m \u001b[0;36m1\u001b[0m\u001b[0;34m,\u001b[0m\u001b[0;36m96\u001b[0m\u001b[0;34m*\u001b[0m\u001b[0;34m(\u001b[0m\u001b[0;36m16\u001b[0m\u001b[0;34m/\u001b[0m\u001b[0;36m16\u001b[0m\u001b[0;34m)\u001b[0m \u001b[0;34m<\u001b[0m \u001b[0ma\u001b[0m \u001b[0;34m<\u001b[0m \u001b[0;36m80\u001b[0m \u001b[0;34m+\u001b[0m \u001b[0;36m1\u001b[0m\u001b[0;34m,\u001b[0m\u001b[0;36m96\u001b[0m\u001b[0;34m*\u001b[0m\u001b[0;34m(\u001b[0m\u001b[0;36m16\u001b[0m\u001b[0;34m/\u001b[0m\u001b[0;36m16\u001b[0m\u001b[0;34m)\u001b[0m\u001b[0;34m\u001b[0m\u001b[0;34m\u001b[0m\u001b[0m\n\u001b[0m\u001b[1;32m      2\u001b[0m \u001b[0ma\u001b[0m\u001b[0;34m\u001b[0m\u001b[0;34m\u001b[0m\u001b[0m\n",
      "\u001b[0;31mNameError\u001b[0m: name 'a' is not defined"
     ]
    }
   ],
   "source": [
    "80 - 1,96*(16/16) < a < 80 + 1,96*(16/16)\n",
    "80 - 1,96 < a < 80 + 1,96\n",
    "78,4 < a < 81,96"
   ]
  },
  {
   "cell_type": "code",
   "execution_count": null,
   "id": "22ee3b6b",
   "metadata": {},
   "outputs": [],
   "source": []
  }
 ],
 "metadata": {
  "kernelspec": {
   "display_name": "Python 3",
   "language": "python",
   "name": "python3"
  },
  "language_info": {
   "codemirror_mode": {
    "name": "ipython",
    "version": 3
   },
   "file_extension": ".py",
   "mimetype": "text/x-python",
   "name": "python",
   "nbconvert_exporter": "python",
   "pygments_lexer": "ipython3",
   "version": "3.8.8"
  }
 },
 "nbformat": 4,
 "nbformat_minor": 5
}
