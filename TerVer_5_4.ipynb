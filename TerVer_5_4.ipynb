{
 "cells": [
  {
   "cell_type": "code",
   "execution_count": null,
   "id": "4cf30cdc",
   "metadata": {},
   "outputs": [],
   "source": [
    "Продавец утверждает, что средний вес пачки печенья составляет 200 г.\n",
    "Из партии извлечена выборка из 10 пачек. \n",
    "Вес каждой пачки составляет: 202, 203, 199, 197, 195, 201, 200, 204, 194, 190.\n",
    "Известно, что их веса распределены нормально. \n",
    "Верно ли утверждение продавца, если учитывать, что доверительная вероятность равна 99%?"
   ]
  },
  {
   "cell_type": "code",
   "execution_count": 1,
   "id": "d85f3b1d",
   "metadata": {},
   "outputs": [
    {
     "data": {
      "text/plain": [
       "198.5"
      ]
     },
     "execution_count": 1,
     "metadata": {},
     "output_type": "execute_result"
    }
   ],
   "source": [
    "x = (202 + 203 + 199 + 197 + 195 + 201 + 200 + 204 + 194 + 190) / 10\n",
    "x"
   ]
  },
  {
   "cell_type": "code",
   "execution_count": null,
   "id": "4401ce6a",
   "metadata": {},
   "outputs": [],
   "source": [
    "Выборочное исправленное среднеквадратичное отклонение: S ≈ 4,453463072."
   ]
  },
  {
   "cell_type": "code",
   "execution_count": null,
   "id": "d1387cbf",
   "metadata": {},
   "outputs": [],
   "source": [
    "Введем нулевую гипотезу, что А = 200"
   ]
  },
  {
   "cell_type": "code",
   "execution_count": null,
   "id": "ea150d2b",
   "metadata": {},
   "outputs": [],
   "source": [
    "U = (x-μ)/σ * sqrt(n)\n",
    "U = (198,5-200)/4,453 * sqrt(10) = -0,10652\n"
   ]
  },
  {
   "cell_type": "code",
   "execution_count": null,
   "id": "300dc707",
   "metadata": {},
   "outputs": [],
   "source": [
    "По таблице критических точек распределения Стьюдента\n",
    "найдем критическую точку по уровню значимости α = 0,01 и числу степеней свободы k = 9,\n",
    "откуда tкр ≈ 3, 25 .\n",
    "Так как Tнабл = 0,10652 < 3, 25 = tкр , то нулевую гипотезу о равенстве среднего веса 100 г можно принять."
   ]
  }
 ],
 "metadata": {
  "kernelspec": {
   "display_name": "Python 3",
   "language": "python",
   "name": "python3"
  },
  "language_info": {
   "codemirror_mode": {
    "name": "ipython",
    "version": 3
   },
   "file_extension": ".py",
   "mimetype": "text/x-python",
   "name": "python",
   "nbconvert_exporter": "python",
   "pygments_lexer": "ipython3",
   "version": "3.8.8"
  }
 },
 "nbformat": 4,
 "nbformat_minor": 5
}
