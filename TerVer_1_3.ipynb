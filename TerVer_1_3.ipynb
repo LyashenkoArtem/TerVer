{
 "cells": [
  {
   "cell_type": "code",
   "execution_count": null,
   "id": "865e1a47-df7e-4669-9520-e7d2c7c3fa97",
   "metadata": {},
   "outputs": [],
   "source": [
    "В ящике имеется 15 деталей, из которых 9 окрашены. \n",
    "Рабочий случайным образом извлекает 3 детали. \n",
    "Какова вероятность того, что все извлеченные детали окрашены?"
   ]
  },
  {
   "cell_type": "code",
   "execution_count": null,
   "id": "33570f73-07b6-4822-b627-e944dfcfc2a4",
   "metadata": {},
   "outputs": [],
   "source": [
    "9\\15 * 8\\14 * 7\\13 = 504\\2730 = 0.1836 "
   ]
  },
  {
   "cell_type": "code",
   "execution_count": null,
   "id": "1711ce52-da91-4824-b8d7-17fe188b90ea",
   "metadata": {},
   "outputs": [],
   "source": [
    "n = С15 3=15! / 3!(15-3) = 455\n",
    "n = 9! / 3!(9-3)! = 362880 / 6 * 720 = 84\n",
    "84 / 455 = 0.1846\n",
    "\n"
   ]
  }
 ],
 "metadata": {
  "kernelspec": {
   "display_name": "Python 3",
   "language": "python",
   "name": "python3"
  },
  "language_info": {
   "codemirror_mode": {
    "name": "ipython",
    "version": 3
   },
   "file_extension": ".py",
   "mimetype": "text/x-python",
   "name": "python",
   "nbconvert_exporter": "python",
   "pygments_lexer": "ipython3",
   "version": "3.8.8"
  }
 },
 "nbformat": 4,
 "nbformat_minor": 5
}
